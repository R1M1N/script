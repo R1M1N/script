{
 "cells": [
  {
   "cell_type": "code",
   "execution_count": null,
   "id": "1788bddc",
   "metadata": {},
   "outputs": [],
   "source": [
    "def find_read_more_links_flexible(soup):\n",
    "    \"\"\"Find links that contain 'read more', 'continue reading', etc.\"\"\"\n",
    "    read_more_patterns = [\n",
    "        'read more', 'continue reading', 'full article', \n",
    "        'read full post', 'see more', 'learn more'\n",
    "    ]\n",
    "    \n",
    "    read_more_links = []\n",
    "    \n",
    "    for a_tag in soup.find_all('a'):\n",
    "        link_text = a_tag.get_text(strip=True).lower()\n",
    "        if any(pattern in link_text for pattern in read_more_patterns):\n",
    "            read_more_links.append({\n",
    "                'text': a_tag.get_text(strip=True),\n",
    "                'href': a_tag.get('href', ''),\n",
    "                'pattern_matched': next(p for p in read_more_patterns if p in link_text)\n",
    "            })\n",
    "    \n",
    "    return read_more_links\n",
    "    find_read_more_links_flexible()\n"
   ]
  },
  {
   "cell_type": "code",
   "execution_count": 5,
   "id": "75173105",
   "metadata": {},
   "outputs": [
    {
     "name": "stdout",
     "output_type": "stream",
     "text": [
      "Error fetching transcript: YouTubeTranscriptApi.fetch() missing 1 required positional argument: 'self'\n",
      "None\n"
     ]
    }
   ],
   "source": [
    "\n",
    "# Then use this code:\n",
    "from youtube_transcript_api import YouTubeTranscriptApi\n",
    "\n",
    "def get_youtube_transcript(video_url):\n",
    "    # Extract video ID from URL\n",
    "    if 'youtube.com/watch?v=' in video_url:\n",
    "        video_id = video_url.split('v=')[1].split('&')\n",
    "    elif 'youtu.be/' in video_url:\n",
    "        video_id = video_url.split('youtu.be/')[1].split('?')\n",
    "    else:\n",
    "        video_id = video_url  # Assume it's already a video ID\n",
    "    \n",
    "    try:\n",
    "        # Get transcript\n",
    "        transcript = YouTubeTranscriptApi.fetch(video_id=video_id)  # Check if transcript is available\n",
    "        # transcript = YouTubeTranscriptApi.get_transcript(video_id)\n",
    "        \n",
    "        # # Convert to plain text\n",
    "        # transcript_text = \"\"\n",
    "        # for entry in transcript:\n",
    "        #     transcript_text += entry['text'] + \" \"\n",
    "        \n",
    "        return transcript\n",
    "    \n",
    "    except Exception as e:\n",
    "        print(f\"Error fetching transcript: {e}\")\n",
    "        return None\n",
    "\n",
    "# Usage\n",
    "video_url = \"https://www.youtube.com/watch?v=L9RNTGcFbUg\"\n",
    "transcript = get_youtube_transcript(video_url)\n",
    "print(transcript)\n"
   ]
  }
 ],
 "metadata": {
  "kernelspec": {
   "display_name": "chatbot",
   "language": "python",
   "name": "python3"
  },
  "language_info": {
   "codemirror_mode": {
    "name": "ipython",
    "version": 3
   },
   "file_extension": ".py",
   "mimetype": "text/x-python",
   "name": "python",
   "nbconvert_exporter": "python",
   "pygments_lexer": "ipython3",
   "version": "3.10.18"
  }
 },
 "nbformat": 4,
 "nbformat_minor": 5
}
